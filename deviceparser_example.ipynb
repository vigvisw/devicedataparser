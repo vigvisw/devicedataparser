{
 "cells": [
  {
   "cell_type": "markdown",
   "metadata": {
    "colab_type": "text",
    "id": "Bjrh6yrJBHOg"
   },
   "source": [
    "This is a basic tutorial for getting you started with **deviceparser.py**. Check out the README file or [this](https://colab.research.google.com/drive/1sbj9w4JpYKh5oqmP9doWr4BkHeUdcs8B) tutorial for more information on this module was written."
   ]
  },
  {
   "cell_type": "code",
   "execution_count": 1,
   "metadata": {
    "colab": {},
    "colab_type": "code",
    "collapsed": true,
    "id": "jDfGfaz_-uPJ"
   },
   "outputs": [],
   "source": [
    "# assuming that you have deviceparser.py in your working directory, load it as follows\n",
    "from deviceparser import Device, ParsingFunctions\n",
    "from myparsers import MyParsers\n",
    "\n",
    "# import the other required libraries\n",
    "import json\n",
    "import re \n",
    "import numpy as np\n",
    "import pandas as pd"
   ]
  },
  {
   "cell_type": "code",
   "execution_count": 0,
   "metadata": {
    "colab": {},
    "colab_type": "code",
    "collapsed": true,
    "id": "3GuhCjMb_FSE"
   },
   "outputs": [],
   "source": [
    "# current version of ParsingFunctions does not come preloaded with any methods \n",
    "print(ParsingFunctions.__dict__)\n",
    "\n",
    "# ParsingFunctions can be provided a single parsing functions or a list of parsing functions\n",
    "ParsingFunctions.add_new_parsers(MyParsers.parse_banner_batsize_hl)\n",
    "print(ParsingFunctions.__dict__)\n",
    "\n",
    "ParsingFunctions.add_new_parsers([MyParsers.parse_banner_displayres_hl, \\\n",
    "                                  MyParsers.parse_banner_ramsize_hl, \\\n",
    "                                  MyParsers.parse_banner_displaysize_hl\n",
    "                                 ])\n",
    "\n",
    "print(ParsingFunctions.__dict__)\n",
    "\n",
    "# only one parsing function of a given name can exist at a time inide ParsingFunctions\n",
    "# a warning message is printed out if you try to reassign a function which already exists\n",
    "# use clear_existing_parser() method if you need to reimport a parser of the same name\n",
    "ParsingFunctions.clear_existing_parsers()\n",
    "\n",
    "# defining user defined functions inside a class makes it easy to obtain the functions as a list\n",
    "parsing_functions_list = [value for key, value in MyParsers.__dict__.items() if re.compile('parse_.*').match(key)]\n",
    "\n",
    "ParsingFunctions.add_new_parsers(parsing_functions_list)"
   ]
  },
  {
   "cell_type": "code",
   "execution_count": 2,
   "metadata": {
    "colab": {},
    "colab_type": "code",
    "id": "3gucgXZv_He6"
   },
   "outputs": [
    {
     "data": {
      "text/plain": [
       "dict_keys(['Acer', 'alcatel', 'Allview', 'Amazon', 'Amoi', 'Apple', 'Archos', 'Asus', 'AT&T;', 'Benefon', 'BenQ', 'BenQ-Siemens', 'Bird', 'BlackBerry', 'Blackview', 'BLU', 'Bosch', 'BQ', 'Casio', 'Cat', 'Celkon', 'Chea', 'Coolpad', 'Dell', 'Emporia', 'Energizer', 'Ericsson', 'Eten', 'Fujitsu Siemens', 'Garmin-Asus', 'Gigabyte', 'Gionee', 'Google', 'Haier', 'Honor', 'HP', 'HTC', 'Huawei', 'i-mate', 'i-mobile', 'Icemobile', 'Infinix', 'Innostream', 'iNQ', 'Intex', 'Jolla', 'Karbonn', 'Kyocera', 'Lava', 'LeEco', 'Lenovo', 'LG', 'Maxon', 'Maxwest', 'Meizu', 'Micromax', 'Microsoft', 'Mitac', 'Mitsubishi', 'Modu', 'Motorola', 'MWg', 'NEC', 'Neonode', 'NIU', 'Nokia', 'Nvidia', 'O2', 'OnePlus', 'Oppo', 'Orange', 'Palm', 'Panasonic', 'Pantech', 'Parla', 'Philips', 'Plum', 'Posh', 'Prestigio', 'QMobile', 'Qtek', 'Razer', 'Realme', 'Sagem', 'Samsung', 'Sendo', 'Sewon', 'Sharp', 'Siemens', 'Sonim', 'Sony', 'Sony Ericsson', 'Spice', 'T-Mobile', 'TECNO', 'Tel.Me.', 'Telit', 'Thuraya', 'Toshiba', 'Unnecto', 'Vertu', 'verykool', 'vivo', 'VK Mobile', 'Vodafone', 'Wiko', 'WND', 'XCute', 'Xiaomi', 'XOLO', 'Yezz', 'Yota', 'YU', 'ZTE'])"
      ]
     },
     "execution_count": 2,
     "metadata": {},
     "output_type": "execute_result"
    }
   ],
   "source": [
    "# loading devices_data\n",
    "file_path = './data/devices_data.txt'\n",
    "devices_dict = Device.read_devices_json(file_path)\n",
    "devices_dict.keys()"
   ]
  },
  {
   "cell_type": "code",
   "execution_count": 3,
   "metadata": {
    "colab": {},
    "colab_type": "code",
    "id": "8r8VhSGH_K_F"
   },
   "outputs": [
    {
     "name": "stdout",
     "output_type": "stream",
     "text": [
      "[(0, 'Acer'), (1, 'alcatel'), (2, 'Allview'), (3, 'Amazon'), (4, 'Amoi'), (5, 'Apple'), (6, 'Archos'), (7, 'Asus'), (8, 'AT&T;'), (9, 'Benefon'), (10, 'BenQ'), (11, 'BenQ-Siemens'), (12, 'Bird'), (13, 'BlackBerry'), (14, 'Blackview'), (15, 'BLU'), (16, 'Bosch'), (17, 'BQ'), (18, 'Casio'), (19, 'Cat'), (20, 'Celkon'), (21, 'Chea'), (22, 'Coolpad'), (23, 'Dell'), (24, 'Emporia'), (25, 'Energizer'), (26, 'Ericsson'), (27, 'Eten'), (28, 'Fujitsu Siemens'), (29, 'Garmin-Asus'), (30, 'Gigabyte'), (31, 'Gionee'), (32, 'Google'), (33, 'Haier'), (34, 'Honor'), (35, 'HP'), (36, 'HTC'), (37, 'Huawei'), (38, 'i-mate'), (39, 'i-mobile'), (40, 'Icemobile'), (41, 'Infinix'), (42, 'Innostream'), (43, 'iNQ'), (44, 'Intex'), (45, 'Jolla'), (46, 'Karbonn'), (47, 'Kyocera'), (48, 'Lava'), (49, 'LeEco'), (50, 'Lenovo'), (51, 'LG'), (52, 'Maxon'), (53, 'Maxwest'), (54, 'Meizu'), (55, 'Micromax'), (56, 'Microsoft'), (57, 'Mitac'), (58, 'Mitsubishi'), (59, 'Modu'), (60, 'Motorola'), (61, 'MWg'), (62, 'NEC'), (63, 'Neonode'), (64, 'NIU'), (65, 'Nokia'), (66, 'Nvidia'), (67, 'O2'), (68, 'OnePlus'), (69, 'Oppo'), (70, 'Orange'), (71, 'Palm'), (72, 'Panasonic'), (73, 'Pantech'), (74, 'Parla'), (75, 'Philips'), (76, 'Plum'), (77, 'Posh'), (78, 'Prestigio'), (79, 'QMobile'), (80, 'Qtek'), (81, 'Razer'), (82, 'Realme'), (83, 'Sagem'), (84, 'Samsung'), (85, 'Sendo'), (86, 'Sewon'), (87, 'Sharp'), (88, 'Siemens'), (89, 'Sonim'), (90, 'Sony'), (91, 'Sony Ericsson'), (92, 'Spice'), (93, 'T-Mobile'), (94, 'TECNO'), (95, 'Tel.Me.'), (96, 'Telit'), (97, 'Thuraya'), (98, 'Toshiba'), (99, 'Unnecto'), (100, 'Vertu'), (101, 'verykool'), (102, 'vivo'), (103, 'VK Mobile'), (104, 'Vodafone'), (105, 'Wiko'), (106, 'WND'), (107, 'XCute'), (108, 'Xiaomi'), (109, 'XOLO'), (110, 'Yezz'), (111, 'Yota'), (112, 'YU'), (113, 'ZTE')]\n"
     ]
    }
   ],
   "source": [
    "# access maker_id and maker_name using Device.list_makers() method\n",
    "makers = Device.list_makers(devices_dict)\n",
    "print(makers)"
   ]
  },
  {
   "cell_type": "code",
   "execution_count": 6,
   "metadata": {
    "colab": {},
    "colab_type": "code",
    "id": "5zUVqpCk_N0n"
   },
   "outputs": [
    {
     "data": {
      "text/plain": [
       "{'banner_batsize_hl': '3400',\n",
       " 'banner_battype_hl': 'Li-Ion',\n",
       " 'banner_body_hl': '157g, 7.8mm thickness',\n",
       " 'banner_camerapixels_hl': '16',\n",
       " 'banner_chipset_hl': 'Exynos 9820 Octa',\n",
       " 'banner_device_hits': '1,491,081 hits',\n",
       " 'banner_device_popularity': ' 54%',\n",
       " 'banner_displayres_hl': '1440x3040 pixels',\n",
       " 'banner_displaysize_hl': '6.1\"',\n",
       " 'banner_os_hl': 'Android 9.0; One UI',\n",
       " 'banner_ramsize_hl': '8',\n",
       " 'banner_released_hl': 'Exp. release 2019, March 8',\n",
       " 'banner_storage_hl': '128/512GB storage, microSD card slot',\n",
       " 'banner_videopixels_hl': '2160p',\n",
       " 'battery_charging': 'Fast battery charging 15WFast wireless charging 15WPower bank/Reverse wireless charging 9W',\n",
       " 'body_build': 'Back glass (Gorilla Glass 5), aluminum frame',\n",
       " 'body_dimensions': '149.9 x 70.4 x 7.8 mm (5.90 x 2.77 x 0.31 in)',\n",
       " 'body_sim': 'Single SIM (Nano-SIM) or Hybrid Dual SIM (Nano-SIM, dual stand-by)',\n",
       " 'body_weight': '157 g (5.54 oz)',\n",
       " 'comms_bluetooth': '5.0, A2DP, LE, aptX',\n",
       " 'comms_gps': 'Yes, with A-GPS, GLONASS, BDS, GALILEO',\n",
       " 'comms_nfc': 'Yes',\n",
       " 'comms_radio': 'FM radio (USA & Canada only)',\n",
       " 'comms_usb': '3.1, Type-C 1.0 reversible connector',\n",
       " 'comms_wlan': 'Wi-Fi 802.11 a/b/g/n/ac/ax, dual-band, Wi-Fi Direct, hotspot',\n",
       " 'device_id': 'SAMSUNG_3',\n",
       " 'device_img_link': 'https://cdn2.gsmarena.com/vv/bigpic/samsung-galaxy-s10.jpg',\n",
       " 'device_info': 'Samsung Galaxy S10 Android smartphone. Announced Feb 2019. Features 6.1″ Dynamic AMOLED display, Exynos 9820 Octa chipset, 3400 mAh battery, 512 GB storage, 8 GB RAM, Corning Gorilla Glass 6.',\n",
       " 'device_link': 'https://www.gsmarena.com/samsung_galaxy_s10-9536.php',\n",
       " 'device_name': 'Galaxy S10',\n",
       " 'device_notes': {'battery': 'Non-removable Li-Ion 3400 mAh battery',\n",
       "  'body': '- Samsung Pay (Visa, MasterCard certified)- IP68 dust/water proof (up to 1.5m for 30 mins)',\n",
       "  'display': '- HDR10+- Always-on display',\n",
       "  'features': '- ANT+- Bixby natural language commands and dictation- Samsung DeX (desktop experience support)',\n",
       "  'network': 'CDMA 800 / 1900 - USA',\n",
       "  'sound': '- 32-bit/384kHz audio- Active noise cancellation with dedicated mic- Dolby Atmos/AKG sound'},\n",
       " 'device_specs': {'Banner': {'batsize-hl': '3400',\n",
       "   'battype-hl': 'Li-Ion',\n",
       "   'body-hl': '157g, 7.8mm thickness',\n",
       "   'camerapixels-hl': '16',\n",
       "   'chipset-hl': 'Exynos 9820 Octa',\n",
       "   'device_hits': '1,491,081 hits',\n",
       "   'device_popularity': ' 54%',\n",
       "   'displayres-hl': '1440x3040 pixels',\n",
       "   'displaysize-hl': '6.1\"',\n",
       "   'os-hl': 'Android 9.0; One UI',\n",
       "   'ramsize-hl': '8',\n",
       "   'released-hl': 'Exp. release 2019, March 8',\n",
       "   'storage-hl': '128/512GB storage, microSD card slot',\n",
       "   'videopixels-hl': '2160p'},\n",
       "  'Battery': {'Charging': 'Fast battery charging 15WFast wireless charging 15WPower bank/Reverse wireless charging 9W',\n",
       "   'NaN': 'Non-removable Li-Ion 3400 mAh battery'},\n",
       "  'Body': {'Build': 'Back glass (Gorilla Glass 5), aluminum frame',\n",
       "   'Dimensions': '149.9 x 70.4 x 7.8 mm (5.90 x 2.77 x 0.31 in)',\n",
       "   'NaN': '- Samsung Pay (Visa, MasterCard certified)- IP68 dust/water proof (up to 1.5m for 30 mins)',\n",
       "   'SIM': 'Single SIM (Nano-SIM) or Hybrid Dual SIM (Nano-SIM, dual stand-by)',\n",
       "   'Weight': '157 g (5.54 oz)'},\n",
       "  'Comms': {'Bluetooth': '5.0, A2DP, LE, aptX',\n",
       "   'GPS': 'Yes, with A-GPS, GLONASS, BDS, GALILEO',\n",
       "   'NFC': 'Yes',\n",
       "   'Radio': 'FM radio (USA & Canada only)',\n",
       "   'USB': '3.1, Type-C 1.0 reversible connector',\n",
       "   'WLAN': 'Wi-Fi 802.11 a/b/g/n/ac/ax, dual-band, Wi-Fi Direct, hotspot'},\n",
       "  'Display': {'NaN': '- HDR10+- Always-on display',\n",
       "   'Protection': 'Corning Gorilla Glass 6',\n",
       "   'Resolution': '1440 x 3040 pixels, 19:9 ratio (~550 ppi density)',\n",
       "   'Size': '6.1 inches, 93.2 cm2(~88.3% screen-to-body ratio)',\n",
       "   'Type': 'Dynamic AMOLED capacitive touchscreen, 16M colors'},\n",
       "  'Features': {'NaN': '- ANT+- Bixby natural language commands and dictation- Samsung DeX (desktop experience support)',\n",
       "   'Sensors': 'Fingerprint (under display), accelerometer, gyro, proximity, compass, barometer, heart rate, SpO2'},\n",
       "  'Launch': {'Announced': '2019, February',\n",
       "   'Status': 'Coming soon. Exp. release 2019, March 8'},\n",
       "  'Main Camera': {'Features': 'LED flash, auto-HDR, panorama',\n",
       "   'Triple': '12 MP, f/1.5-2.4, 26mm (wide), 1/2.55\", 1.4µm, Dual Pixel PDAF, OIS12 MP, f/2.4, 52mm (telephoto), 1/3.6\", 1.0µm, AF, OIS, 2x optical zoom16 MP, f/2.2, 12mm (ultrawide), 1.0µm',\n",
       "   'Video': '2160p@60fps, 1080p@240fps, 720p@960fps, HDR, dual-video rec.'},\n",
       "  'Memory': {'Card slot': 'microSD, up to 512 GB (uses SIM 2 slot) - dual SIM model only',\n",
       "   'Internal': '128/512 GB, 8 GB RAM'},\n",
       "  'Misc': {'Colors': 'Prism White, Prism Black, Prism Green, Prism Blue, Canary Yellow, Flamingo Pink',\n",
       "   'Price': 'About 930 EUR'},\n",
       "  'Network': {'2G bands': 'GSM 850 / 900 / 1800 / 1900 - SIM 1 & SIM 2 (dual-SIM model only)',\n",
       "   '3G bands': 'HSDPA 850 / 900 / 1700(AWS) / 1900 / 2100 - Global, USA',\n",
       "   '4G bands': 'LTE band 1(2100), 2(1900), 3(1800), 4(1700/2100), 5(850), 7(2600), 8(900), 12(700), 13(700), 17(700), 18(800), 19(800), 20(800), 25(1900), 26(850), 28(700), 32(1500), 38(2600), 39(1900), 40(2300), 41(2500), 66(1700/2100) - Global',\n",
       "   'EDGE': 'Yes',\n",
       "   'GPRS': 'Yes',\n",
       "   'NaN': 'CDMA 800 / 1900 - USA',\n",
       "   'Speed': 'HSPA 42.2/5.76 Mbps, LTE-A (7CA) Cat20 2000/150 Mbps',\n",
       "   'Technology': 'GSM / CDMA / HSPA / EVDO / LTE'},\n",
       "  'Opinions': '283',\n",
       "  'Platform': {'CPU': 'Octa-core (2x2.73 GHz Mongoose M4 & 2x2.31 GHz Cortex-A75 & 4x1.95 GHz Cortex-A55) - EMEAOcta-core (1x2.84 GHz Kryo 485 & 3x2.41 GHz Kryo 485 & 4x1.78 GHz Kryo 485) - USA/LATAM, China',\n",
       "   'Chipset': 'Exynos 9820 Octa (8 nm) - EMEAQualcomm SDM855 Snapdragon 855 (7 nm) - USA/LATAM, China',\n",
       "   'GPU': 'Mali-G76 MP12 - EMEAAdreno 640 - USA/LATAM, China',\n",
       "   'OS': 'Android 9.0 (Pie); One UI'},\n",
       "  'Selfie camera': {'Features': 'Dual video call, Auto-HDR',\n",
       "   'Single': '10 MP, f/1.9, 26mm (wide), 1.22µm, Dual Pixel PDAF',\n",
       "   'Video': '2160p@30fps, 1080p@30fps'},\n",
       "  'Sound': {'3.5mm jack': 'Yes',\n",
       "   'Loudspeaker': 'Yes, with stereo speakers',\n",
       "   'NaN': '- 32-bit/384kHz audio- Active noise cancellation with dedicated mic- Dolby Atmos/AKG sound'},\n",
       "  'Tests': {'Audio quality': 'Noise -92.2dB / Crosstalk -92.7dB',\n",
       "   'Battery life': 'Endurance rating 79h',\n",
       "   'Camera': 'Photo/Video',\n",
       "   'Display': 'Contrast ratio: Infinite (nominal), 4.498 (sunlight)',\n",
       "   'Loudspeaker': 'Voice 82dB / Noise 74dB / Ring 85dB',\n",
       "   'NaN': nan,\n",
       "   'Performance': 'Basemark OS II: 4539 / Basemark OS II 2.0: 4465Basemark X: 44097'}},\n",
       " 'display_protection': 'Corning Gorilla Glass 6',\n",
       " 'display_resolution': '1440 x 3040 pixels, 19:9 ratio (~550 ppi density)',\n",
       " 'display_size': '6.1 inches, 93.2 cm2(~88.3% screen-to-body ratio)',\n",
       " 'display_type': 'Dynamic AMOLED capacitive touchscreen, 16M colors',\n",
       " 'features_sensors': 'Fingerprint (under display), accelerometer, gyro, proximity, compass, barometer, heart rate, SpO2',\n",
       " 'launch_announced': '2019, February',\n",
       " 'launch_status': 'Coming soon. Exp. release 2019, March 8',\n",
       " 'main_camera_features': 'LED flash, auto-HDR, panorama',\n",
       " 'main_camera_triple': '12 MP, f/1.5-2.4, 26mm (wide), 1/2.55\", 1.4µm, Dual Pixel PDAF, OIS12 MP, f/2.4, 52mm (telephoto), 1/3.6\", 1.0µm, AF, OIS, 2x optical zoom16 MP, f/2.2, 12mm (ultrawide), 1.0µm',\n",
       " 'main_camera_video': '2160p@60fps, 1080p@240fps, 720p@960fps, HDR, dual-video rec.',\n",
       " 'maker_id': 84,\n",
       " 'maker_name': 'Samsung',\n",
       " 'memory_card_slot': 'microSD, up to 512 GB (uses SIM 2 slot) - dual SIM model only',\n",
       " 'memory_internal': '128/512 GB, 8 GB RAM',\n",
       " 'misc_colors': 'Prism White, Prism Black, Prism Green, Prism Blue, Canary Yellow, Flamingo Pink',\n",
       " 'misc_price': 'About 930 EUR',\n",
       " 'network_2g_bands': 'GSM 850 / 900 / 1800 / 1900 - SIM 1 & SIM 2 (dual-SIM model only)',\n",
       " 'network_3g_bands': 'HSDPA 850 / 900 / 1700(AWS) / 1900 / 2100 - Global, USA',\n",
       " 'network_4g_bands': 'LTE band 1(2100), 2(1900), 3(1800), 4(1700/2100), 5(850), 7(2600), 8(900), 12(700), 13(700), 17(700), 18(800), 19(800), 20(800), 25(1900), 26(850), 28(700), 32(1500), 38(2600), 39(1900), 40(2300), 41(2500), 66(1700/2100) - Global',\n",
       " 'network_edge': 'Yes',\n",
       " 'network_gprs': 'Yes',\n",
       " 'network_speed': 'HSPA 42.2/5.76 Mbps, LTE-A (7CA) Cat20 2000/150 Mbps',\n",
       " 'network_technology': 'GSM / CDMA / HSPA / EVDO / LTE',\n",
       " 'opinions': '283',\n",
       " 'platform_chipset': 'Exynos 9820 Octa (8 nm) - EMEAQualcomm SDM855 Snapdragon 855 (7 nm) - USA/LATAM, China',\n",
       " 'platform_cpu': 'Octa-core (2x2.73 GHz Mongoose M4 & 2x2.31 GHz Cortex-A75 & 4x1.95 GHz Cortex-A55) - EMEAOcta-core (1x2.84 GHz Kryo 485 & 3x2.41 GHz Kryo 485 & 4x1.78 GHz Kryo 485) - USA/LATAM, China',\n",
       " 'platform_gpu': 'Mali-G76 MP12 - EMEAAdreno 640 - USA/LATAM, China',\n",
       " 'platform_os': 'Android 9.0 (Pie); One UI',\n",
       " 'selfie_camera_features': 'Dual video call, Auto-HDR',\n",
       " 'selfie_camera_single': '10 MP, f/1.9, 26mm (wide), 1.22µm, Dual Pixel PDAF',\n",
       " 'selfie_camera_video': '2160p@30fps, 1080p@30fps',\n",
       " 'sound_3.5mm_jack': 'Yes',\n",
       " 'sound_loudspeaker': 'Yes, with stereo speakers',\n",
       " 'tests_audio_quality': 'Noise -92.2dB / Crosstalk -92.7dB',\n",
       " 'tests_battery_life': 'Endurance rating 79h',\n",
       " 'tests_camera': 'Photo/Video',\n",
       " 'tests_display': 'Contrast ratio: Infinite (nominal), 4.498 (sunlight)',\n",
       " 'tests_loudspeaker': 'Voice 82dB / Noise 74dB / Ring 85dB',\n",
       " 'tests_performance': 'Basemark OS II: 4539 / Basemark OS II 2.0: 4465Basemark X: 44097'}"
      ]
     },
     "execution_count": 6,
     "metadata": {},
     "output_type": "execute_result"
    }
   ],
   "source": [
    "# parsing a single device object\n",
    "\n",
    "maker_name = 'Samsung'\n",
    "# get Samsung's maker_id form the list we just created\n",
    "for maker in makers:\n",
    "  if maker[1] == maker_name:\n",
    "    maker_id = maker[0]\n",
    "    \n",
    "# get the data for Galaxy S10 from the devices_dict \n",
    "device_name = 'Galaxy S10'\n",
    "for device_num, device in devices_dict[maker_name].items():\n",
    "  if device['device_name'] == device_name:\n",
    "    device_id = maker_name.upper() + '_' + device_num \n",
    "    break\n",
    "    \n",
    "# create the device object by initializng an instance of the Device class\n",
    "s10 = Device(device, device_id, maker_name, maker_id)\n",
    "\n",
    "# new features have been created using the parsing functions\n",
    "# print(s10.batsize)\n",
    "# print(s10.displayres_height)\n",
    "# print(s10.displayres_len)\n",
    "# print(s10.displaysize)\n",
    "# print(s10.ramsize)\n",
    "s10.__dict_"
   ]
  },
  {
   "cell_type": "code",
   "execution_count": 0,
   "metadata": {
    "colab": {},
    "colab_type": "code",
    "collapsed": true,
    "id": "AP5D2beJAPxs"
   },
   "outputs": [],
   "source": [
    "# creating a list of device objects for all makers\n",
    "devices_collector = Device.create_devices_from_data(devices_dict)\n",
    "print(len(devices_collector))\n",
    "print(type(devices_collector[0]))"
   ]
  },
  {
   "cell_type": "code",
   "execution_count": 0,
   "metadata": {
    "colab": {},
    "colab_type": "code",
    "collapsed": true,
    "id": "ORlYdyzLAR8Z"
   },
   "outputs": [],
   "source": [
    "# simple one line filters can be written for devices collector using list comprehensions\n",
    "# use getattr() for getting the value of a feature instead of self.feature_name\n",
    "# this ensures that an AttributeError is not thrown if the device does not have the attribute \n",
    "samsung_devices = [x for x in devices_collector if getattr(x, 'maker_name', None) == 'Samsung']\n",
    "print(len(samsung_devices) == len(devices_dict['Samsung'].keys()))\n",
    "\n",
    "s10 = [x for x in devices_collector if getattr(x, 'device_name', None) == 'Galaxy S10']\n",
    "print(s10[0].device_name)\n",
    "\n",
    "batsize = [x.batsize if getattr(x, 'batsize', None) is not None else np.NaN for x in devices_collector]\n",
    "print(batsize)\n",
    "\n",
    "# this might seem complicated if you are beginner, but it is a great opportunity to learn about list comprehensions"
   ]
  },
  {
   "cell_type": "code",
   "execution_count": 0,
   "metadata": {
    "colab": {},
    "colab_type": "code",
    "collapsed": true,
    "id": "LblsKgQdAUMG"
   },
   "outputs": [],
   "source": [
    "# create a DataFrame after applying all the user defined parsing functions to the devices data\n",
    "df = Device.create_df(devices_dict)\n",
    "df.head()"
   ]
  },
  {
   "cell_type": "code",
   "execution_count": 0,
   "metadata": {
    "colab": {},
    "colab_type": "code",
    "collapsed": true,
    "id": "zUtAwjjYAYZT"
   },
   "outputs": [],
   "source": [
    "df.info()"
   ]
  }
 ],
 "metadata": {
  "colab": {
   "collapsed_sections": [],
   "name": "deviceparser_example.ipynb",
   "private_outputs": true,
   "provenance": [],
   "version": "0.3.2"
  },
  "kernelspec": {
   "display_name": "Python 3",
   "language": "python",
   "name": "python3"
  },
  "language_info": {
   "codemirror_mode": {
    "name": "ipython",
    "version": 3
   },
   "file_extension": ".py",
   "mimetype": "text/x-python",
   "name": "python",
   "nbconvert_exporter": "python",
   "pygments_lexer": "ipython3",
   "version": "3.6.8"
  }
 },
 "nbformat": 4,
 "nbformat_minor": 1
}
