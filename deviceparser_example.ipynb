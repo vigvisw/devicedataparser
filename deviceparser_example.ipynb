{
  "nbformat": 4,
  "nbformat_minor": 0,
  "metadata": {
    "colab": {
      "name": "deviceparser_example.ipynb",
      "version": "0.3.2",
      "provenance": [],
      "private_outputs": true
    },
    "kernelspec": {
      "name": "python3",
      "display_name": "Python 3"
    }
  },
  "cells": [
    {
      "metadata": {
        "id": "Bjrh6yrJBHOg",
        "colab_type": "text"
      },
      "cell_type": "markdown",
      "source": [
        "This is a basic tutorial for getting you started with **deviceparser.py**. Check out the README file or [this](https://colab.research.google.com/drive/1sbj9w4JpYKh5oqmP9doWr4BkHeUdcs8B) tutorial for more information."
      ]
    },
    {
      "metadata": {
        "id": "jDfGfaz_-uPJ",
        "colab_type": "code",
        "colab": {}
      },
      "cell_type": "code",
      "source": [
        "# assuming that you have deviceparser.py in your working directory, load it as follows\n",
        "from deviceparser import Device, ParsingFunctions\n",
        "\n",
        "# import the other required libraries\n",
        "import json\n",
        "import re \n",
        "import numpy as np\n",
        "import pandas as pd"
      ],
      "execution_count": 0,
      "outputs": []
    },
    {
      "metadata": {
        "id": "QIv_5nkW_BqP",
        "colab_type": "code",
        "colab": {}
      },
      "cell_type": "code",
      "source": [
        "# define the parsing functions\n",
        "def parse_banner_batsize_hl(value):\n",
        "  '''A function for parsing the batsize_hl\n",
        "\n",
        "     Takes in str '3800' and returns the np.floats64 3800\n",
        "  '''\n",
        "  return {'batsize':np.float64(value)}\n",
        "\n",
        "\n",
        "def parse_banner_displayres_hl(value):\n",
        "  '''A function for parsing the displayres_hl\n",
        "\n",
        "     Takes in str '1280x1920 pixels' and returns two np.float64's for the length and height of the screen\n",
        "  '''\n",
        "  res_pattern = re.compile('(\\d+)x(\\d+)')\n",
        "  return_val =  re.findall(res_pattern, value)\n",
        "  feature_names = ['displayres_len', 'displayres_height']\n",
        "  if not return_val:\n",
        "    return {'displayres_len':np.NaN, 'displayres_height':np.NaN}\n",
        "  else:\n",
        "    return  {name:np.float64(i) for name, i  in zip(feature_names, return_val[0])}\n",
        "  \n",
        "\n",
        "def parse_banner_ramsize_hl(banner_spec_value):\n",
        "    '''A function for parsing the ramsize_hl\n",
        "\n",
        "       Takes in str '2' and returns the np.float64 2\n",
        "    '''\n",
        "    return {'ramsize':np.float64(banner_spec_value)}\n",
        "  \n",
        "  \n",
        "def parse_banner_displaysize_hl(banner_spec_value):\n",
        "    '''A function for parsing the displaysize_hl\n",
        "    \n",
        "       Takes in str '6.0\"' and returns np.float64 6.0\n",
        "    '''\n",
        "    disp_size_pattern = re.compile('(^\\d+\\.?\\d*)\\s?\"')\n",
        "    return_val = re.findall(disp_size_pattern, banner_spec_value)\n",
        "    if not return_val:\n",
        "      return {'displaysize':np.NaN}\n",
        "    else:\n",
        "      return {'displaysize':np.float64(return_val[0])}"
      ],
      "execution_count": 0,
      "outputs": []
    },
    {
      "metadata": {
        "id": "3GuhCjMb_FSE",
        "colab_type": "code",
        "colab": {}
      },
      "cell_type": "code",
      "source": [
        "# provide ParsingFunctions the user defined parsers\n",
        "\n",
        "# current version of ParsingFunctions does not come preloaded with any methods \n",
        "print(ParsingFunctions.__dict__)\n",
        "\n",
        "# ParsingFunctions can be provided a single parsing functions or a list of parsing functions\n",
        "ParsingFunctions.add_new_parsers(parse_banner_batsize_hl)\n",
        "print(ParsingFunctions.__dict__)\n",
        "\n",
        "ParsingFunctions.add_new_parsers([parse_banner_displayres_hl, parse_banner_ramsize_hl, parse_banner_displaysize_hl])\n",
        "print(ParsingFunctions.__dict__)\n",
        "\n",
        "# only one parsing function of a given name can exist at a time inide ParsingFunctions\n",
        "ParsingFunctions.add_new_parsers(parse_banner_batsize_hl)\n",
        "# you have to reimport the ParsingFunctions class to redefine an existing function"
      ],
      "execution_count": 0,
      "outputs": []
    },
    {
      "metadata": {
        "id": "3gucgXZv_He6",
        "colab_type": "code",
        "colab": {}
      },
      "cell_type": "code",
      "source": [
        "# loading devices_data\n",
        "file_path = '../devices_data.txt'\n",
        "devices_dict = Device.read_devices_json(file_path)\n",
        "devices_dict.keys()"
      ],
      "execution_count": 0,
      "outputs": []
    },
    {
      "metadata": {
        "id": "8r8VhSGH_K_F",
        "colab_type": "code",
        "colab": {}
      },
      "cell_type": "code",
      "source": [
        "# access maker_id and maker_name using Device.list_makers() method\n",
        "makers = Device.list_makers(devices_dict)\n",
        "print(makers)"
      ],
      "execution_count": 0,
      "outputs": []
    },
    {
      "metadata": {
        "id": "5zUVqpCk_N0n",
        "colab_type": "code",
        "colab": {}
      },
      "cell_type": "code",
      "source": [
        "# parsing a single device object\n",
        "\n",
        "maker_name = 'Samsung'\n",
        "# get Samsung's maker_id form the list we just created\n",
        "for maker in makers:\n",
        "  if maker[1] == maker_name:\n",
        "    maker_id = maker[0]\n",
        "    \n",
        "# get the data for Galaxy S10 from the devices_dict \n",
        "device_name = 'Galaxy S10'\n",
        "for device_num, device in devices_dict[maker_name].items():\n",
        "  if device['device_name'] == device_name:\n",
        "    device_id = maker_name.upper() + '_' + device_num \n",
        "    break\n",
        "    \n",
        "# create the device object by initializng an instance of the Device class\n",
        "s10 = Device(device, device_id, maker_name, maker_id)\n",
        "\n",
        "# new features have been created using the parsing functions\n",
        "print(s10.batsize)\n",
        "print(s10.displayres_height)\n",
        "print(s10.displayres_len)\n",
        "print(s10.displaysize)\n",
        "print(s10.ramsize)"
      ],
      "execution_count": 0,
      "outputs": []
    },
    {
      "metadata": {
        "id": "AP5D2beJAPxs",
        "colab_type": "code",
        "colab": {}
      },
      "cell_type": "code",
      "source": [
        "# creating a list of device objects for all makers\n",
        "devices_collector = Device.create_devices_from_data(devices_dict)\n",
        "print(len(devices_collector))\n",
        "print(type(devices_collector[0]))"
      ],
      "execution_count": 0,
      "outputs": []
    },
    {
      "metadata": {
        "id": "ORlYdyzLAR8Z",
        "colab_type": "code",
        "colab": {}
      },
      "cell_type": "code",
      "source": [
        "# simple one line filters can be written for devices collector using list comprehensions\n",
        "# use getattr() for getting the value of a feature instead of self.feature_name\n",
        "# this ensures that an AttributeError is not thrown if the device does not have the attribute \n",
        "samsung_devices = [x for x in devices_collector if getattr(x, 'maker_name', None) == 'Samsung']\n",
        "print(len(samsung_devices) == len(devices_dict['Samsung'].keys()))\n",
        "\n",
        "s10 = [x for x in devices_collector if getattr(x, 'device_name', None) == 'Galaxy S10']\n",
        "print(s10[0].device_name)\n",
        "\n",
        "batsize = [x.batsize if getattr(x, 'batsize', None) is not None else np.NaN for x in devices_collector]\n",
        "print(batsize)\n",
        "\n",
        "# this might seem complicated if you are beginner, but it is a great opportunity to learn about list comprehensions"
      ],
      "execution_count": 0,
      "outputs": []
    },
    {
      "metadata": {
        "id": "LblsKgQdAUMG",
        "colab_type": "code",
        "colab": {}
      },
      "cell_type": "code",
      "source": [
        "# create a DataFrame after applying all the user defined parsing functions to the devices data\n",
        "df = Device.create_df(devices_dict)\n",
        "df.head()"
      ],
      "execution_count": 0,
      "outputs": []
    },
    {
      "metadata": {
        "id": "zUtAwjjYAYZT",
        "colab_type": "code",
        "colab": {}
      },
      "cell_type": "code",
      "source": [
        "df.info()"
      ],
      "execution_count": 0,
      "outputs": []
    }
  ]
}