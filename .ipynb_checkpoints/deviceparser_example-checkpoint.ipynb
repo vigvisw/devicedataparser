{
 "cells": [
  {
   "cell_type": "markdown",
   "metadata": {
    "colab_type": "text",
    "id": "Bjrh6yrJBHOg"
   },
   "source": [
    "This is a basic tutorial for getting you started with **deviceparser.py**. Check out the README file or [this](https://colab.research.google.com/drive/1sbj9w4JpYKh5oqmP9doWr4BkHeUdcs8B) tutorial for more information on this module was written."
   ]
  },
  {
   "cell_type": "code",
   "execution_count": 0,
   "metadata": {
    "colab": {},
    "colab_type": "code",
    "collapsed": true,
    "id": "jDfGfaz_-uPJ"
   },
   "outputs": [],
   "source": [
    "# assuming that you have deviceparser.py in your working directory, load it as follows\n",
    "from deviceparser import Device, ParsingFunctions\n",
    "from myparsers import MyParsers\n",
    "\n",
    "# import the other required libraries\n",
    "import json\n",
    "import re \n",
    "import numpy as np\n",
    "import pandas as pd"
   ]
  },
  {
   "cell_type": "code",
   "execution_count": 0,
   "metadata": {
    "colab": {},
    "colab_type": "code",
    "collapsed": true,
    "id": "3GuhCjMb_FSE"
   },
   "outputs": [],
   "source": [
    "# current version of ParsingFunctions does not come preloaded with any methods \n",
    "print(ParsingFunctions.__dict__)\n",
    "\n",
    "# ParsingFunctions can be provided a single parsing functions or a list of parsing functions\n",
    "ParsingFunctions.add_new_parsers(MyParsers.parse_banner_batsize_hl)\n",
    "print(ParsingFunctions.__dict__)\n",
    "\n",
    "ParsingFunctions.add_new_parsers([MyParsers.parse_banner_displayres_hl, \\\n",
    "                                  MyParsers.parse_banner_ramsize_hl, \\\n",
    "                                  MyParsers.parse_banner_displaysize_hl\n",
    "                                 ])\n",
    "\n",
    "print(ParsingFunctions.__dict__)\n",
    "\n",
    "# only one parsing function of a given name can exist at a time inide ParsingFunctions\n",
    "# a warning message is printed out if you try to reassign a function which already exists\n",
    "# use clear_existing_parser() method if you need to reimport a parser of the same name\n",
    "ParsingFunctions.clear_existing_parsers()\n",
    "\n",
    "# defining user defined functions inside a class makes it easy to obtain the functions as a list\n",
    "parsing_functions_list = [value for key, value in MyParsers.__dict__.items() if re.compile('parse_.*').match(key)]\n",
    "\n",
    "ParsingFunctions.add_new_parsers(parsing_functions_list)"
   ]
  },
  {
   "cell_type": "code",
   "execution_count": 0,
   "metadata": {
    "colab": {},
    "colab_type": "code",
    "collapsed": true,
    "id": "3gucgXZv_He6"
   },
   "outputs": [],
   "source": [
    "# loading devices_data\n",
    "file_path = './data/devices_data.txt'\n",
    "devices_dict = Device.read_devices_json(file_path)\n",
    "devices_dict.keys()"
   ]
  },
  {
   "cell_type": "code",
   "execution_count": 0,
   "metadata": {
    "colab": {},
    "colab_type": "code",
    "collapsed": true,
    "id": "8r8VhSGH_K_F"
   },
   "outputs": [],
   "source": [
    "# access maker_id and maker_name using Device.list_makers() method\n",
    "makers = Device.list_makers(devices_dict)\n",
    "print(makers)"
   ]
  },
  {
   "cell_type": "code",
   "execution_count": 0,
   "metadata": {
    "colab": {},
    "colab_type": "code",
    "collapsed": true,
    "id": "5zUVqpCk_N0n"
   },
   "outputs": [],
   "source": [
    "# parsing a single device object\n",
    "\n",
    "maker_name = 'Samsung'\n",
    "# get Samsung's maker_id form the list we just created\n",
    "for maker in makers:\n",
    "  if maker[1] == maker_name:\n",
    "    maker_id = maker[0]\n",
    "    \n",
    "# get the data for Galaxy S10 from the devices_dict \n",
    "device_name = 'Galaxy S10'\n",
    "for device_num, device in devices_dict[maker_name].items():\n",
    "  if device['device_name'] == device_name:\n",
    "    device_id = maker_name.upper() + '_' + device_num \n",
    "    break\n",
    "    \n",
    "# create the device object by initializng an instance of the Device class\n",
    "s10 = Device(device, device_id, maker_name, maker_id)\n",
    "\n",
    "# new features have been created using the parsing functions\n",
    "print(s10.batsize)\n",
    "print(s10.displayres_height)\n",
    "print(s10.displayres_len)\n",
    "print(s10.displaysize)\n",
    "print(s10.ramsize)"
   ]
  },
  {
   "cell_type": "code",
   "execution_count": 0,
   "metadata": {
    "colab": {},
    "colab_type": "code",
    "collapsed": true,
    "id": "AP5D2beJAPxs"
   },
   "outputs": [],
   "source": [
    "# creating a list of device objects for all makers\n",
    "devices_collector = Device.create_devices_from_data(devices_dict)\n",
    "print(len(devices_collector))\n",
    "print(type(devices_collector[0]))"
   ]
  },
  {
   "cell_type": "code",
   "execution_count": 0,
   "metadata": {
    "colab": {},
    "colab_type": "code",
    "collapsed": true,
    "id": "ORlYdyzLAR8Z"
   },
   "outputs": [],
   "source": [
    "# simple one line filters can be written for devices collector using list comprehensions\n",
    "# use getattr() for getting the value of a feature instead of self.feature_name\n",
    "# this ensures that an AttributeError is not thrown if the device does not have the attribute \n",
    "samsung_devices = [x for x in devices_collector if getattr(x, 'maker_name', None) == 'Samsung']\n",
    "print(len(samsung_devices) == len(devices_dict['Samsung'].keys()))\n",
    "\n",
    "s10 = [x for x in devices_collector if getattr(x, 'device_name', None) == 'Galaxy S10']\n",
    "print(s10[0].device_name)\n",
    "\n",
    "batsize = [x.batsize if getattr(x, 'batsize', None) is not None else np.NaN for x in devices_collector]\n",
    "print(batsize)\n",
    "\n",
    "# this might seem complicated if you are beginner, but it is a great opportunity to learn about list comprehensions"
   ]
  },
  {
   "cell_type": "code",
   "execution_count": 0,
   "metadata": {
    "colab": {},
    "colab_type": "code",
    "collapsed": true,
    "id": "LblsKgQdAUMG"
   },
   "outputs": [],
   "source": [
    "# create a DataFrame after applying all the user defined parsing functions to the devices data\n",
    "df = Device.create_df(devices_dict)\n",
    "df.head()"
   ]
  },
  {
   "cell_type": "code",
   "execution_count": 0,
   "metadata": {
    "colab": {},
    "colab_type": "code",
    "collapsed": true,
    "id": "zUtAwjjYAYZT"
   },
   "outputs": [],
   "source": [
    "df.info()"
   ]
  }
 ],
 "metadata": {
  "colab": {
   "collapsed_sections": [],
   "name": "deviceparser_example.ipynb",
   "private_outputs": true,
   "provenance": [],
   "version": "0.3.2"
  },
  "kernelspec": {
   "display_name": "Python 3",
   "language": "python",
   "name": "python3"
  },
  "language_info": {
   "codemirror_mode": {
    "name": "ipython",
    "version": 3
   },
   "file_extension": ".py",
   "mimetype": "text/x-python",
   "name": "python",
   "nbconvert_exporter": "python",
   "pygments_lexer": "ipython3",
   "version": "3.6.1"
  }
 },
 "nbformat": 4,
 "nbformat_minor": 1
}
